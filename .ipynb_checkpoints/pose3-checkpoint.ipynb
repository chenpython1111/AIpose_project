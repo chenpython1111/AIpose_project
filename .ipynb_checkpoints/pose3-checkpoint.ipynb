{
 "cells": [
  {
   "cell_type": "markdown",
   "id": "d9d771d6-cd3e-4a77-9e7b-22588c89e6d7",
   "metadata": {},
   "source": [
    "# 效果展示: 原始版\n",
    " "
   ]
  },
  {
   "cell_type": "code",
   "execution_count": 2,
   "id": "b9b1a482-0234-49f6-b62d-fb69cba7ecc6",
   "metadata": {},
   "outputs": [
    {
     "name": "stdout",
     "output_type": "stream",
     "text": [
      "WARNING:tensorflow:From C:\\Users\\YI_CHEN\\anaconda3\\envs\\mediapipe\\Lib\\site-packages\\keras\\src\\losses.py:2976: The name tf.losses.sparse_softmax_cross_entropy is deprecated. Please use tf.compat.v1.losses.sparse_softmax_cross_entropy instead.\n",
      "\n"
     ]
    }
   ],
   "source": [
    "import mediapipe as mp\n",
    "from mediapipe.tasks.python import vision\n",
    "from mediapipe.tasks.python import text\n",
    "import cv2\n",
    "import time\n",
    "import math as m\n",
    "import numpy as np\n",
    "from IPython.display import clear_output"
   ]
  },
  {
   "cell_type": "code",
   "execution_count": 5,
   "id": "c7391114-6539-4eec-8979-6d14bfe7739b",
   "metadata": {},
   "outputs": [],
   "source": [
    "mp_drawing = mp.solutions.drawing_utils          # mediapipe 繪圖方法\n",
    "mp_drawing_styles = mp.solutions.drawing_styles  # mediapipe 繪圖樣式\n",
    "mp_pose = mp.solutions.pose                      # mediapipe 姿勢偵測\n",
    "\n",
    "cap = cv2.VideoCapture(0)\n",
    "\n",
    "# 啟用姿勢偵測\n",
    "with mp_pose.Pose(\n",
    "    min_detection_confidence=0.5,\n",
    "    min_tracking_confidence=0.5) as pose:\n",
    "\n",
    "    if not cap.isOpened():                            # 是否開啟相機\n",
    "        print(\"Cannot open camera\")\n",
    "        exit()\n",
    "    while True:\n",
    "        ret, img = cap.read()\n",
    "        if not ret:                                   # 是否有讀到影像   \n",
    "            print(\"Cannot receive frame\")\n",
    "            break\n",
    "        img = cv2.resize(img,(520,300))               # 縮小尺寸，加快演算速度\n",
    "        img2 = cv2.cvtColor(img, cv2.COLOR_BGR2RGB)   # 將 BGR 轉換成 RGB\n",
    "        results = pose.process(img2)                  # 取得姿勢偵測結果\n",
    "        coords = np.array(results.pose_world_landmarks.landmark)\n",
    "        # 根據姿勢偵測結果，標記身體節點和骨架\n",
    "        mp_drawing.draw_landmarks(\n",
    "            img,\n",
    "            results.pose_landmarks,                   # 關節點\n",
    "            mp_pose.POSE_CONNECTIONS,                 # 連起來\n",
    "            landmark_drawing_spec=mp_drawing_styles.get_default_pose_landmarks_style())\n",
    "\n",
    "        cv2.imshow('oxxostudio', img)\n",
    "        if cv2.waitKey(5) == ord('q'):\n",
    "            break     # 按下 q 鍵停止\n",
    "cap.release()\n",
    "cv2.destroyAllWindows()"
   ]
  },
  {
   "cell_type": "code",
   "execution_count": 8,
   "id": "873d7d7c-5e9a-41cf-bd15-3462c4a6233b",
   "metadata": {},
   "outputs": [
    {
     "data": {
      "text/plain": [
       "google.protobuf.internal.containers.RepeatedCompositeFieldContainer"
      ]
     },
     "execution_count": 8,
     "metadata": {},
     "output_type": "execute_result"
    }
   ],
   "source": [
    "type(results.pose_world_landmarks.landmark)"
   ]
  },
  {
   "cell_type": "code",
   "execution_count": 9,
   "id": "6ff0d347-c0c7-46b0-b6e0-92df3c07c1a5",
   "metadata": {},
   "outputs": [
    {
     "data": {
      "text/plain": [
       "[x: 0.07772065\n",
       "y: -0.60978335\n",
       "z: -0.25116405\n",
       "visibility: 0.99939114\n",
       ", x: 0.0746008\n",
       "y: -0.645614\n",
       "z: -0.22821754\n",
       "visibility: 0.9987752\n",
       ", x: 0.075268954\n",
       "y: -0.6474239\n",
       "z: -0.22808675\n",
       "visibility: 0.9991698\n",
       ", x: 0.07507633\n",
       "y: -0.6480411\n",
       "z: -0.2281547\n",
       "visibility: 0.9989008\n",
       ", x: 0.052135173\n",
       "y: -0.63938826\n",
       "z: -0.23634195\n",
       "visibility: 0.998884\n",
       ", x: 0.0526185\n",
       "y: -0.63990855\n",
       "z: -0.23867805\n",
       "visibility: 0.9992123\n",
       ", x: 0.051726446\n",
       "y: -0.6403797\n",
       "z: -0.23678187\n",
       "visibility: 0.99897325\n",
       ", x: 0.08075041\n",
       "y: -0.6226143\n",
       "z: -0.13255331\n",
       "visibility: 0.9989925\n",
       ", x: -0.03135774\n",
       "y: -0.6035542\n",
       "z: -0.17970344\n",
       "visibility: 0.9993114\n",
       ", x: 0.08206206\n",
       "y: -0.58512485\n",
       "z: -0.22173038\n",
       "visibility: 0.9991004\n",
       ", x: 0.048852146\n",
       "y: -0.57462317\n",
       "z: -0.23406598\n",
       "visibility: 0.99939054\n",
       ", x: 0.1650375\n",
       "y: -0.4550345\n",
       "z: -0.058454607\n",
       "visibility: 0.9985394\n",
       ", x: -0.1558616\n",
       "y: -0.42661387\n",
       "z: -0.12733045\n",
       "visibility: 0.9980531\n",
       ", x: 0.3000796\n",
       "y: -0.29303133\n",
       "z: -0.06694773\n",
       "visibility: 0.19087826\n",
       ", x: -0.33299622\n",
       "y: -0.25061926\n",
       "z: -0.1169572\n",
       "visibility: 0.40230238\n",
       ", x: 0.3589808\n",
       "y: -0.14373623\n",
       "z: -0.17040065\n",
       "visibility: 0.041400496\n",
       ", x: -0.38801292\n",
       "y: -0.13276716\n",
       "z: -0.15190455\n",
       "visibility: 0.052861117\n",
       ", x: 0.37171152\n",
       "y: -0.07834592\n",
       "z: -0.17714763\n",
       "visibility: 0.048089974\n",
       ", x: -0.40913478\n",
       "y: -0.07865792\n",
       "z: -0.15003267\n",
       "visibility: 0.051068548\n",
       ", x: 0.3439696\n",
       "y: -0.092288226\n",
       "z: -0.21454088\n",
       "visibility: 0.07532347\n",
       ", x: -0.38373992\n",
       "y: -0.091697454\n",
       "z: -0.17153081\n",
       "visibility: 0.08207205\n",
       ", x: 0.34497467\n",
       "y: -0.13430138\n",
       "z: -0.18077974\n",
       "visibility: 0.07120072\n",
       ", x: -0.37426168\n",
       "y: -0.11997267\n",
       "z: -0.16352463\n",
       "visibility: 0.08878535\n",
       ", x: 0.14273839\n",
       "y: 0.0054162936\n",
       "z: 0.01991481\n",
       "visibility: 0.0010940799\n",
       ", x: -0.14213893\n",
       "y: -0.029124957\n",
       "z: -0.014432911\n",
       "visibility: 0.0010298019\n",
       ", x: 0.15924224\n",
       "y: -0.025936104\n",
       "z: -0.14268744\n",
       "visibility: 0.0017537741\n",
       ", x: -0.0048721717\n",
       "y: -0.31061748\n",
       "z: -0.22661124\n",
       "visibility: 0.00060259784\n",
       ", x: 0.24495947\n",
       "y: 0.2663328\n",
       "z: -0.053402793\n",
       "visibility: 0.00025553265\n",
       ", x: 0.027984234\n",
       "y: 0.027829405\n",
       "z: -0.20653465\n",
       "visibility: 3.515798e-05\n",
       ", x: 0.23773327\n",
       "y: 0.3342972\n",
       "z: -0.013719211\n",
       "visibility: 0.00023411143\n",
       ", x: 0.006897268\n",
       "y: 0.09763305\n",
       "z: -0.12749399\n",
       "visibility: 8.3290135e-05\n",
       ", x: 0.38922036\n",
       "y: -0.082044795\n",
       "z: -0.37829575\n",
       "visibility: 0.00031712942\n",
       ", x: 0.03626756\n",
       "y: -0.2161187\n",
       "z: -0.5051385\n",
       "visibility: 8.4451895e-05\n",
       "]"
      ]
     },
     "execution_count": 9,
     "metadata": {},
     "output_type": "execute_result"
    }
   ],
   "source": [
    "results.pose_world_landmarks.landmark"
   ]
  },
  {
   "cell_type": "code",
   "execution_count": null,
   "id": "516b8480-ede5-4137-87f8-0ff7a1e6b714",
   "metadata": {},
   "outputs": [],
   "source": []
  }
 ],
 "metadata": {
  "kernelspec": {
   "display_name": "Python 3 (ipykernel)",
   "language": "python",
   "name": "python3"
  },
  "language_info": {
   "codemirror_mode": {
    "name": "ipython",
    "version": 3
   },
   "file_extension": ".py",
   "mimetype": "text/x-python",
   "name": "python",
   "nbconvert_exporter": "python",
   "pygments_lexer": "ipython3",
   "version": "3.11.7"
  }
 },
 "nbformat": 4,
 "nbformat_minor": 5
}
